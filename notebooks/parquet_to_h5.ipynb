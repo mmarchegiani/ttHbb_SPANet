{
 "cells": [
  {
   "cell_type": "code",
   "execution_count": 1,
   "id": "8fede7ba",
   "metadata": {},
   "outputs": [],
   "source": [
    "# This notebook is for creating a training sample and a separate testing sample\n",
    "# that includes lepton pt,eta,phi, met and ht from event \n",
    "# file all_jets_fullRun2_v1.parquet"
   ]
  },
  {
   "cell_type": "code",
   "execution_count": 2,
   "id": "e4654ba7",
   "metadata": {},
   "outputs": [],
   "source": [
    "import awkward as ak\n",
    "import numba\n",
    "import numpy as np\n",
    "import pandas as pd\n",
    "import awkward as ak\n",
    "import h5py\n",
    "import vector\n",
    "vector.register_numba()\n",
    "vector.register_awkward()\n",
    "\n",
    "#import matplotlib.pyplot as plt\n",
    "#from matplotlib.colors import LogNorm\n",
    "#import mplhep as hep\n",
    "#hep.style.use(hep.style.ROOT)"
   ]
  },
  {
   "cell_type": "code",
   "execution_count": 3,
   "id": "6bc2ec75",
   "metadata": {},
   "outputs": [],
   "source": [
    "filename = \"/afs/cern.ch/work/m/mmarcheg/ttHbb/ttHbb_SPANet/test_dataset/output_test_v3/ttHTobb_ttToSemiLep.parquet\"\n",
    "df = ak.from_parquet(filename)"
   ]
  },
  {
   "cell_type": "code",
   "execution_count": 4,
   "id": "adf95f99",
   "metadata": {},
   "outputs": [
    {
     "data": {
      "text/html": [
       "<pre>[[{pt: 110, eta: 0.09, phi: 2.19, btag: 0.0538, m: 0, matched: True, ...}, ...],\n",
       " [{pt: 157, eta: 1.19, phi: -2.36, btag: 0.0194, m: 0, matched: ..., ...}, ...],\n",
       " [{pt: 65.4, eta: -0.174, phi: -2.45, btag: 0.0177, m: 0, ...}, ..., {...}],\n",
       " [{pt: 171, eta: -0.123, phi: 1.98, btag: 0.743, m: 0, matched: ..., ...}, ...],\n",
       " [{pt: 242, eta: 0.305, phi: -0.388, btag: 0.958, m: 0, ...}, ..., {...}],\n",
       " [{pt: 141, eta: -1.64, phi: 1.47, btag: 0.943, m: 0, matched: True, ...}, ...],\n",
       " [{pt: 117, eta: -0.802, phi: -0.98, btag: 0.976, m: 0, ...}, ..., {...}],\n",
       " [{pt: 219, eta: 1.56, phi: 2.28, btag: 0.0102, m: 0, matched: True, ...}, ...],\n",
       " [{pt: 247, eta: -0.643, phi: -0.122, btag: 0.999, m: 0, ...}, ..., {...}],\n",
       " [{pt: 154, eta: -1.56, phi: -2.18, btag: 0.998, m: 0, matched: ..., ...}, ...],\n",
       " ...,\n",
       " [{pt: 469, eta: -0.645, phi: -0.575, btag: 0.0159, m: 0, ...}, ..., {...}],\n",
       " [{pt: 258, eta: 1.05, phi: 2.21, btag: 0.994, m: 0, matched: True, ...}, ...],\n",
       " [{pt: 69.1, eta: 1.16, phi: -1.51, btag: 0.103, m: 0, matched: ..., ...}, ...],\n",
       " [{pt: 117, eta: -0.929, phi: 2.45, btag: 0.962, m: 0, matched: ..., ...}, ...],\n",
       " [{pt: 158, eta: -0.152, phi: -0.0965, btag: 0.461, m: 0, ...}, ..., {...}],\n",
       " [{pt: 131, eta: -0.165, phi: -0.165, btag: 0.582, m: 0, ...}, ..., {...}],\n",
       " [{pt: 217, eta: 1.38, phi: 2.8, btag: 0.988, m: 0, matched: True, ...}, ...],\n",
       " [{pt: 87.2, eta: -1.41, phi: 0.445, btag: 0.635, m: 0, ...}, ..., {...}],\n",
       " [{pt: 112, eta: 0.244, phi: 0.796, btag: 0.918, m: 0, matched: ..., ...}, ...]]\n",
       "--------------------------------------------------------------------------------\n",
       "type: 1277812 * var * {\n",
       "    pt: float32,\n",
       "    eta: float32,\n",
       "    phi: float32,\n",
       "    btag: float32,\n",
       "    m: float32,\n",
       "    matched: bool,\n",
       "    prov: float64\n",
       "}</pre>"
      ],
      "text/plain": [
       "<Array [[{pt: 110, eta: 0.09, ...}, ...], ...] type='1277812 * var * {pt: f...'>"
      ]
     },
     "execution_count": 4,
     "metadata": {},
     "output_type": "execute_result"
    }
   ],
   "source": [
    "df.JetGood"
   ]
  },
  {
   "cell_type": "code",
   "execution_count": 5,
   "id": "7371ce2c-1bb8-4ccd-a170-c0cf58b78b56",
   "metadata": {},
   "outputs": [
    {
     "data": {
      "text/html": [
       "<pre>[[{pt: 110, eta: 0.09, phi: 2.19, btag: 0.0538, m: 0, matched: True, ...}, ...],\n",
       " [{pt: 157, eta: 1.19, phi: -2.36, btag: 0.0194, m: 0, matched: ..., ...}, ...],\n",
       " [{pt: 65.4, eta: -0.174, phi: -2.45, btag: 0.0177, m: 0, ...}, ..., {...}],\n",
       " [{pt: 171, eta: -0.123, phi: 1.98, btag: 0.743, m: 0, matched: ..., ...}, ...],\n",
       " [{pt: 242, eta: 0.305, phi: -0.388, btag: 0.958, m: 0, ...}, ..., {...}],\n",
       " [{pt: 141, eta: -1.64, phi: 1.47, btag: 0.943, m: 0, matched: True, ...}, ...],\n",
       " [{pt: 117, eta: -0.802, phi: -0.98, btag: 0.976, m: 0, ...}, ..., {...}],\n",
       " [{pt: 219, eta: 1.56, phi: 2.28, btag: 0.0102, m: 0, matched: True, ...}, ...],\n",
       " [{pt: 247, eta: -0.643, phi: -0.122, btag: 0.999, m: 0, ...}, ..., {...}],\n",
       " [{pt: 154, eta: -1.56, phi: -2.18, btag: 0.998, m: 0, matched: ..., ...}, ...],\n",
       " ...,\n",
       " [{pt: 469, eta: -0.645, phi: -0.575, btag: 0.0159, m: 0, ...}, ..., {...}],\n",
       " [{pt: 258, eta: 1.05, phi: 2.21, btag: 0.994, m: 0, matched: True, ...}, ...],\n",
       " [{pt: 69.1, eta: 1.16, phi: -1.51, btag: 0.103, m: 0, matched: ..., ...}, ...],\n",
       " [{pt: 117, eta: -0.929, phi: 2.45, btag: 0.962, m: 0, matched: ..., ...}, ...],\n",
       " [{pt: 158, eta: -0.152, phi: -0.0965, btag: 0.461, m: 0, ...}, ..., {...}],\n",
       " [{pt: 131, eta: -0.165, phi: -0.165, btag: 0.582, m: 0, ...}, ..., {...}],\n",
       " [{pt: 217, eta: 1.38, phi: 2.8, btag: 0.988, m: 0, matched: True, ...}, ...],\n",
       " [{pt: 87.2, eta: -1.41, phi: 0.445, btag: 0.635, m: 0, ...}, ..., {...}],\n",
       " [{pt: 112, eta: 0.244, phi: 0.796, btag: 0.918, m: 0, matched: ..., ...}, ...]]\n",
       "--------------------------------------------------------------------------------\n",
       "type: 1277812 * var * Momentum4D[\n",
       "    pt: float32,\n",
       "    eta: float32,\n",
       "    phi: float32,\n",
       "    btag: float32,\n",
       "    m: float32,\n",
       "    matched: bool,\n",
       "    prov: float64\n",
       "]</pre>"
      ],
      "text/plain": [
       "<MomentumArray4D [[{pt: 110, eta: 0.09, ...}, ...], ...] type='1277812 * va...'>"
      ]
     },
     "execution_count": 5,
     "metadata": {},
     "output_type": "execute_result"
    }
   ],
   "source": [
    "jets = ak.with_name(df.JetGood, name=\"Momentum4D\")\n",
    "leptons = ak.with_name(df.LeptonGood, name=\"Momentum4D\")\n",
    "met = ak.with_name(df.MET, name=\"Momentum4D\")\n",
    "jets"
   ]
  },
  {
   "cell_type": "code",
   "execution_count": 6,
   "id": "1713515c",
   "metadata": {},
   "outputs": [
    {
     "data": {
      "text/plain": [
       "1277812"
      ]
     },
     "execution_count": 6,
     "metadata": {},
     "output_type": "execute_result"
    }
   ],
   "source": [
    "frac_train = 0.8\n",
    "ntot = ak.count(met)\n",
    "index_train_max = int(np.ceil(frac_train*ntot))\n",
    "ntot"
   ]
  },
  {
   "cell_type": "code",
   "execution_count": 7,
   "id": "18f36628",
   "metadata": {},
   "outputs": [
    {
     "data": {
      "text/plain": [
       "(1022250, 255562)"
      ]
     },
     "execution_count": 7,
     "metadata": {},
     "output_type": "execute_result"
    }
   ],
   "source": [
    "jets_train = jets[:index_train_max]\n",
    "leptons_train = leptons[:index_train_max]\n",
    "met_train = met[:index_train_max]\n",
    "\n",
    "jets_test = jets[index_train_max:]\n",
    "leptons_test = leptons[index_train_max:]\n",
    "met_test = met[index_train_max:]\n",
    "\n",
    "ak.count(met_train), ak.count(met_test)"
   ]
  },
  {
   "cell_type": "code",
   "execution_count": 60,
   "id": "528ffc3b",
   "metadata": {},
   "outputs": [],
   "source": [
    "def create_groups(file):\n",
    "    file.create_group(\"TARGETS/t1\") # hadronic top -> q1 q2 b\n",
    "    file.create_group(\"TARGETS/t2\") # leptonic top -> b\n",
    "    file.create_group(\"TARGETS/h\") # higgs -> b1 b2\n",
    "    file.create_group(\"INPUTS\")\n",
    "    file.create_group(\"INPUTS/Source\")\n",
    "    file.create_group(\"INPUTS/Lepton\")\n",
    "    file.create_group(\"INPUTS/Met\")\n",
    "    file.create_group(\"INPUTS/ht\")\n",
    "    return file\n",
    "\n",
    "def create_targets(file, particle, jets):\n",
    "    multiindex = ak.zip([ak.local_index(jets, i) for i in range(jets.ndim)])\n",
    "    \n",
    "    if particle == \"h\":\n",
    "        mask = jets.prov == 1 # H->b1b2\n",
    "        multiindex2 = multiindex[mask]\n",
    "        \n",
    "        b1_array = []\n",
    "        b2_array = []\n",
    "\n",
    "        for index,i in enumerate(multiindex2):\n",
    "            if len(i) == 0:\n",
    "                b1_array.append(-1)\n",
    "                b2_array.append(-1)\n",
    "            elif len(i) == 1:\n",
    "                b1_array.append(i[0].tolist()[1])\n",
    "                b2_array.append(-1)\n",
    "            elif len(i) == 2:\n",
    "                b1_array.append(i[0].tolist()[1])\n",
    "                b2_array.append(i[1].tolist()[1])\n",
    "        \n",
    "        file.create_dataset(\"TARGETS/h/b1\", np.shape(b1_array), dtype='int64', data=b1_array)\n",
    "        file.create_dataset(\"TARGETS/h/b2\", np.shape(b2_array), dtype='int64', data=b2_array)\n",
    "        \n",
    "    elif particle == \"t1\":\n",
    "        mask = jets.prov == 5 # W->q1q2 from t1\n",
    "        multiindex2 = multiindex[mask]\n",
    "        \n",
    "        q1_array = []\n",
    "        q2_array = []\n",
    "\n",
    "        for index,i in enumerate(multiindex2):\n",
    "            if len(i) == 0:\n",
    "                q1_array.append(-1)\n",
    "                q2_array.append(-1)\n",
    "            elif len(i) == 1:\n",
    "                q1_array.append(i[0].tolist()[1])\n",
    "                q2_array.append(-1)\n",
    "            elif len(i) == 2:\n",
    "                q1_array.append(i[0].tolist()[1])\n",
    "                q2_array.append(i[1].tolist()[1])\n",
    "                \n",
    "        mask = jets.prov == 2 # t1->Wb \n",
    "        multiindex2 = multiindex[mask]\n",
    "        \n",
    "        had_b_array = []\n",
    "\n",
    "        for index,i in enumerate(multiindex2):\n",
    "            if len(i) == 0:\n",
    "                had_b_array.append(-1)\n",
    "            elif len(i) == 1:\n",
    "                had_b_array.append(i[0].tolist()[1])\n",
    "                \n",
    "        file.create_dataset(\"TARGETS/t1/q1\", np.shape(q1_array), dtype='int64', data=q1_array)\n",
    "        file.create_dataset(\"TARGETS/t1/q2\", np.shape(q2_array), dtype='int64', data=q2_array)\n",
    "        file.create_dataset(\"TARGETS/t1/b\", np.shape(had_b_array), dtype='int64', data=had_b_array)\n",
    "                \n",
    "    elif particle == \"t2\":\n",
    "        mask = jets.prov == 3 # t2->b \n",
    "        multiindex2 = multiindex[mask]\n",
    "        \n",
    "        lep_b_array = []\n",
    "\n",
    "        for index,i in enumerate(multiindex2):\n",
    "            if len(i) == 0:\n",
    "                lep_b_array.append(-1)\n",
    "            elif len(i) == 1:\n",
    "                lep_b_array.append(i[0].tolist()[1])\n",
    "\n",
    "        file.create_dataset(\"TARGETS/t2/b\", np.shape(lep_b_array), dtype='int64', data=lep_b_array)\n",
    "\n",
    "def create_inputs(file, jets, lep, met):\n",
    "    pt_array = ak.to_numpy(ak.fill_none(ak.pad_none(jets.pt, 16, clip=True), 0))\n",
    "    mask = ~(pt_array == 0)\n",
    "    mask_ds = file.create_dataset(\"INPUTS/Jet/MASK\", np.shape(mask), dtype='bool', data=mask)\n",
    "    pt_ds = file.create_dataset(\"INPUTS/Jet/pt\", np.shape(pt_array), dtype='float32', data=pt_array)\n",
    "\n",
    "    phi_array = ak.to_numpy(ak.fill_none(ak.pad_none(jets.phi, 16, clip=True), 0))\n",
    "    phi_ds = file.create_dataset(\"INPUTS/Jet/phi\", np.shape(phi_array), dtype='float32', data=phi_array)\n",
    "\n",
    "    eta_array = ak.to_numpy(ak.fill_none(ak.pad_none(jets.eta, 16, clip=True), 0))\n",
    "    eta_ds = file.create_dataset(\"INPUTS/Jet/eta\", np.shape(eta_array), dtype='float32', data=eta_array)\n",
    "\n",
    "    btag = ak.to_numpy(ak.fill_none(ak.pad_none(jets.btag, 16, clip=True), 0))\n",
    "    btag_ds = file.create_dataset(\"INPUTS/Jet/btag\", np.shape(btag), dtype='float32', data=btag)\n",
    "    \n",
    "    # Fill Lepton\n",
    "    pt_array = ak.to_numpy(lep.pt)\n",
    "    pt_ds = file.create_dataset(\"INPUTS/Lepton/pt\", np.shape(pt_array), dtype='float32', data=pt_array)\n",
    "\n",
    "    phi_array = ak.to_numpy(lep.phi)\n",
    "    phi_ds = file.create_dataset(\"INPUTS/Lepton/phi\", np.shape(phi_array), dtype='float32', data=phi_array)\n",
    "\n",
    "    eta_array = ak.to_numpy(lep.eta)\n",
    "    eta_ds = file.create_dataset(\"INPUTS/Lepton/eta\", np.shape(eta_array), dtype='float32', data=eta_array)\n",
    "\n",
    "    # Fill Met\n",
    "    pt_array = ak.to_numpy(met.pt)\n",
    "    pt_ds = file.create_dataset(\"INPUTS/Met/pt\", np.shape(pt_array), dtype='float32', data=pt_array)\n",
    "\n",
    "    phi_array = ak.to_numpy(met.phi)\n",
    "    phi_ds = file.create_dataset(\"INPUTS/Met/phi\", np.shape(phi_array), dtype='float32', data=phi_array)\n",
    "\n",
    "    eta_array = ak.to_numpy(met.eta)\n",
    "    eta_ds = file.create_dataset(\"INPUTS/Met/eta\", np.shape(eta_array), dtype='float32', data=eta_array)\n",
    "\n",
    "    # Fill ht\n",
    "    pt_array = ak.to_numpy(ak.fill_none(ak.pad_none(jets.pt, 15, clip=True), 0))\n",
    "    ht_array = np.sum(pt_array, axis=1)\n",
    "    ht_ds = file.create_dataset(\"INPUTS/ht/ht\", np.shape(ht_array), dtype='float32', data=ht_array)"
   ]
  },
  {
   "cell_type": "code",
   "execution_count": 61,
   "id": "df45aae2",
   "metadata": {},
   "outputs": [],
   "source": [
    "mask_fullymatched = ak.sum(jets_test.matched == True, axis=1)>=6\n",
    "jets_test_fullymatched = jets_test[mask_fullymatched]"
   ]
  },
  {
   "cell_type": "code",
   "execution_count": 62,
   "id": "74fee3a4",
   "metadata": {},
   "outputs": [
    {
     "data": {
      "text/html": [
       "<pre>[[{pt: 247, eta: -0.119, phi: -2.99, btag: 0.497, m: 0, ...}, ..., {...}],\n",
       " [{pt: 191, eta: -0.116, phi: 3.1, btag: 0.588, m: 0, matched: True, ...}, ...],\n",
       " [{pt: 162, eta: -0.301, phi: 2.55, btag: 0.977, m: 0, matched: ..., ...}, ...],\n",
       " [{pt: 291, eta: 0.166, phi: 0.633, btag: 0.107, m: 0, matched: ..., ...}, ...],\n",
       " [{pt: 759, eta: 0.457, phi: -2.73, btag: 0.0223, m: 0, ...}, ..., {...}],\n",
       " [{pt: 112, eta: -2.12, phi: -2.24, btag: 0.862, m: 0, matched: ..., ...}, ...],\n",
       " [{pt: 129, eta: 0.848, phi: 2.3, btag: 0.996, m: 0, matched: True, ...}, ...],\n",
       " [{pt: 148, eta: 0.72, phi: 2.08, btag: 0.999, m: 0, matched: True, ...}, ...],\n",
       " [{pt: 95.9, eta: 1.2, phi: 0.963, btag: 0.993, m: 0, matched: True, ...}, ...],\n",
       " [{pt: 68.9, eta: -0.108, phi: 3.04, btag: 0.0294, m: 0, ...}, ..., {...}],\n",
       " ...,\n",
       " [{pt: 161, eta: -0.785, phi: -2.12, btag: 0.808, m: 0, ...}, ..., {...}],\n",
       " [{pt: 226, eta: 1.75, phi: 0.0288, btag: 0.993, m: 0, matched: ..., ...}, ...],\n",
       " [{pt: 203, eta: -1.48, phi: 1.93, btag: 0.606, m: 0, matched: True, ...}, ...],\n",
       " [{pt: 127, eta: -0.0433, phi: -0.631, btag: 0.79, m: 0, ...}, ..., {...}],\n",
       " [{pt: 300, eta: 0.0912, phi: -2.59, btag: 0.0268, m: 0, ...}, ..., {...}],\n",
       " [{pt: 178, eta: 1, phi: 2.5, btag: 0.00581, m: 0, matched: True, ...}, ...],\n",
       " [{pt: 95.7, eta: -0.226, phi: -0.864, btag: 1, m: 0, matched: True, ...}, ...],\n",
       " [{pt: 119, eta: 1.14, phi: -2.28, btag: 0.824, m: 0, matched: True, ...}, ...],\n",
       " [{pt: 134, eta: -1.77, phi: -1.83, btag: 0.675, m: 0, matched: ..., ...}, ...]]\n",
       "--------------------------------------------------------------------------------\n",
       "type: 29753 * var * Momentum4D[\n",
       "    pt: float32,\n",
       "    eta: float32,\n",
       "    phi: float32,\n",
       "    btag: float32,\n",
       "    m: float32,\n",
       "    matched: bool,\n",
       "    prov: float64\n",
       "]</pre>"
      ],
      "text/plain": [
       "<MomentumArray4D [[{pt: 247, eta: ..., ...}, ...], ...] type='29753 * var *...'>"
      ]
     },
     "execution_count": 62,
     "metadata": {},
     "output_type": "execute_result"
    }
   ],
   "source": [
    "higgs = jets_test_fullymatched[jets_test_fullymatched.prov == 1]\n",
    "mask_match = ak.num(higgs) == 2\n",
    "\n",
    "w_or_t_jets = jets_test_fullymatched[(jets_test_fullymatched.prov == 5)|(jets_test_fullymatched.prov == 2)]\n",
    "mask_match = mask_match & (ak.num(w_or_t_jets) == 3)\n",
    "\n",
    "lep_top = jets_test_fullymatched[jets_test_fullymatched.prov == 3]\n",
    "mask_match = mask_match & (ak.num(lep_top) == 1)\n",
    "\n",
    "jets_test_fullymatched = jets_test_fullymatched[mask_match]\n",
    "jets_test_fullymatched"
   ]
  },
  {
   "cell_type": "code",
   "execution_count": 63,
   "id": "7f84bb33",
   "metadata": {},
   "outputs": [],
   "source": [
    "# Prepare files for inputs and targets\n",
    "test_file = h5py.File(\"test_lep_met_ht_matched_v2.h5\", \"w\")\n",
    "test_file = create_groups(test_file)"
   ]
  },
  {
   "cell_type": "code",
   "execution_count": 64,
   "id": "6066dc46",
   "metadata": {},
   "outputs": [],
   "source": [
    "create_targets(test_file, \"h\", jets_test_fullymatched)\n",
    "create_targets(test_file, \"t1\", jets_test_fullymatched)\n",
    "create_targets(test_file, \"t2\", jets_test_fullymatched)"
   ]
  },
  {
   "cell_type": "code",
   "execution_count": 65,
   "id": "a44c364a",
   "metadata": {},
   "outputs": [],
   "source": [
    "# Create input arrays in the files\n",
    "create_inputs(test_file, jets_test_fullymatched, leptons_test, met_test)"
   ]
  },
  {
   "cell_type": "code",
   "execution_count": 66,
   "id": "d3347c56-5b73-452f-b7ef-bffed8c20312",
   "metadata": {},
   "outputs": [
    {
     "data": {
      "text/plain": [
       "<HDF5 file \"test_lep_met_ht_matched_v2.h5\" (mode r+)>"
      ]
     },
     "execution_count": 66,
     "metadata": {},
     "output_type": "execute_result"
    }
   ],
   "source": [
    "test_file"
   ]
  },
  {
   "cell_type": "code",
   "execution_count": 67,
   "id": "87859754-c6e2-43bd-89a9-23dcf2e347b4",
   "metadata": {},
   "outputs": [
    {
     "data": {
      "text/plain": [
       "array([6, 5, 0, 1, 5])"
      ]
     },
     "execution_count": 67,
     "metadata": {},
     "output_type": "execute_result"
    }
   ],
   "source": [
    "# Print the index of b-jets\n",
    "test_file[\"TARGETS\"][\"t1\"][\"b\"][:5]"
   ]
  },
  {
   "cell_type": "code",
   "execution_count": 69,
   "id": "47c90b32-733f-4935-84c8-c67d01846821",
   "metadata": {},
   "outputs": [
    {
     "data": {
      "text/plain": [
       "array([[0.49682617, 0.43969727, 0.02072144, 0.00827789, 0.0051384 ,\n",
       "        0.9663086 , 0.8642578 , 0.        , 0.        , 0.        ,\n",
       "        0.        , 0.        , 0.        , 0.        , 0.        ,\n",
       "        0.        ],\n",
       "       [0.5883789 , 0.328125  , 0.9995117 , 0.00226212, 0.03013611,\n",
       "        0.8149414 , 0.40551758, 0.00651169, 0.        , 0.        ,\n",
       "        0.        , 0.        , 0.        , 0.        , 0.        ,\n",
       "        0.        ],\n",
       "       [0.9765625 , 0.99316406, 0.9995117 , 0.83251953, 0.05593872,\n",
       "        0.0138855 , 0.01021576, 0.        , 0.        , 0.        ,\n",
       "        0.        , 0.        , 0.        , 0.        , 0.        ,\n",
       "        0.        ],\n",
       "       [0.10681152, 0.9790039 , 0.0066452 , 0.00436401, 0.9995117 ,\n",
       "        0.99609375, 0.00643921, 0.        , 0.        , 0.        ,\n",
       "        0.        , 0.        , 0.        , 0.        , 0.        ,\n",
       "        0.        ],\n",
       "       [0.02229309, 0.9980469 , 0.99560547, 0.00672913, 0.06240845,\n",
       "        0.95751953, 0.00355911, 0.        , 0.        , 0.        ,\n",
       "        0.        , 0.        , 0.        , 0.        , 0.        ,\n",
       "        0.        ]], dtype=float32)"
      ]
     },
     "execution_count": 69,
     "metadata": {},
     "output_type": "execute_result"
    }
   ],
   "source": [
    "# Print the btag score of jets\n",
    "test_file[\"INPUTS\"][\"Jet\"][\"btag\"][:5]"
   ]
  },
  {
   "cell_type": "code",
   "execution_count": 70,
   "id": "10335b50-42ff-4e31-a259-4dfab4d070a8",
   "metadata": {},
   "outputs": [],
   "source": [
    "test_file.close()"
   ]
  },
  {
   "cell_type": "code",
   "execution_count": null,
   "id": "b51f8a30-3fed-4a23-9d68-b5e0b2fb7844",
   "metadata": {},
   "outputs": [],
   "source": []
  }
 ],
 "metadata": {
  "@webio": {
   "lastCommId": null,
   "lastKernelId": null
  },
  "kernelspec": {
   "display_name": "Python 3 (ipykernel)",
   "language": "python",
   "name": "python3"
  },
  "language_info": {
   "codemirror_mode": {
    "name": "ipython",
    "version": 3
   },
   "file_extension": ".py",
   "mimetype": "text/x-python",
   "name": "python",
   "nbconvert_exporter": "python",
   "pygments_lexer": "ipython3",
   "version": "3.9.18"
  }
 },
 "nbformat": 4,
 "nbformat_minor": 5
}
