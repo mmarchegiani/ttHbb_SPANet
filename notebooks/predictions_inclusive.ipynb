{
 "cells": [
  {
   "cell_type": "code",
   "execution_count": 1,
   "id": "e4654ba7",
   "metadata": {},
   "outputs": [],
   "source": [
    "from collections import defaultdict\n",
    "import awkward as ak\n",
    "import numba\n",
    "import numpy as np\n",
    "import pandas as pd\n",
    "import h5py\n",
    "import vector\n",
    "vector.register_numba()\n",
    "vector.register_awkward()\n",
    "\n",
    "#import matplotlib.pyplot as plt\n",
    "#from matplotlib.colors import LogNorm\n",
    "#import mplhep as hep\n",
    "#hep.style.use(hep.style.ROOT)"
   ]
  },
  {
   "cell_type": "markdown",
   "id": "015fad86-6766-4aaf-9ade-bf5825ca3c25",
   "metadata": {},
   "source": [
    "# Predictions on fully-matched dataset of model trained on inclusive dataset"
   ]
  },
  {
   "cell_type": "code",
   "execution_count": 2,
   "id": "6bc2ec75",
   "metadata": {},
   "outputs": [],
   "source": [
    "filename_test = \"/afs/cern.ch/work/m/mmarcheg/ttHbb/ttHbb_SPANet/datasets/test_file_test_29753.h5\"\n",
    "filename_pred = \"/afs/cern.ch/work/m/mmarcheg/ttHbb/ttHbb_SPANet/spanet_output/predictions/predictions_version_4_fullymatched_test_29753.h5\"\n",
    "df_test = h5py.File(filename_test,'r')\n",
    "df_pred = h5py.File(filename_pred,'r')"
   ]
  },
  {
   "cell_type": "code",
   "execution_count": 3,
   "id": "d5d5ab60-7b00-4dcf-9d83-f626e10e76da",
   "metadata": {},
   "outputs": [
    {
     "data": {
      "text/plain": [
       "<KeysViewHDF5 ['assignment_probability', 'b1', 'b2', 'detection_probability', 'marginal_probability']>"
      ]
     },
     "execution_count": 3,
     "metadata": {},
     "output_type": "execute_result"
    }
   ],
   "source": [
    "df_pred[\"TARGETS\"][\"h\"].keys()"
   ]
  },
  {
   "cell_type": "markdown",
   "id": "e5cb0cf9-29b4-4200-97b9-aceb7500eb4b",
   "metadata": {},
   "source": [
    "## Compute the jet assignment efficiency\n",
    "We extract the predicted and true indices for the individual quarks.\n",
    "Jets are correctly assigned when the predicted jet index is equal to the true index. We can compute the efficiency as the ratio of the correctly assigned jets over the total number of jets."
   ]
  },
  {
   "cell_type": "code",
   "execution_count": 4,
   "id": "5adfdd3c-65d1-4523-822f-3283f4a6fd87",
   "metadata": {},
   "outputs": [
    {
     "data": {
      "text/plain": [
       "array([0, 0, 2, ..., 0, 4, 1])"
      ]
     },
     "execution_count": 4,
     "metadata": {},
     "output_type": "execute_result"
    }
   ],
   "source": [
    "idx_b1_pred = df_pred[\"TARGETS\"][\"h\"][\"b1\"][()]\n",
    "idx_b2_pred = df_pred[\"TARGETS\"][\"h\"][\"b2\"][()]\n",
    "idx_b1_pred"
   ]
  },
  {
   "cell_type": "code",
   "execution_count": 5,
   "id": "a1260aaa-ced3-4edf-bf78-21995d8a5a2d",
   "metadata": {},
   "outputs": [
    {
     "data": {
      "text/plain": [
       "array([0, 0, 2, ..., 0, 4, 1])"
      ]
     },
     "execution_count": 5,
     "metadata": {},
     "output_type": "execute_result"
    }
   ],
   "source": [
    "idx_b1_true = df_test[\"TARGETS\"][\"h\"][\"b1\"][()]\n",
    "idx_b2_true = df_test[\"TARGETS\"][\"h\"][\"b2\"][()]\n",
    "idx_b1_true"
   ]
  },
  {
   "cell_type": "code",
   "execution_count": 6,
   "id": "1a22cdf1-e389-4740-a9ad-0760ecd799b2",
   "metadata": {},
   "outputs": [
    {
     "data": {
      "text/plain": [
       "<Array [[0, 1], [0, 6], ... [4, 5], [1, 3]] type='29753 * var * int64'>"
      ]
     },
     "execution_count": 6,
     "metadata": {},
     "output_type": "execute_result"
    }
   ],
   "source": [
    "idx_h_pred = ak.concatenate((ak.unflatten(idx_b1_pred, ak.ones_like(idx_b1_pred)), ak.unflatten(idx_b2_pred, ak.ones_like(idx_b2_pred))), axis=1)\n",
    "idx_h_true = ak.concatenate((ak.unflatten(idx_b1_true, ak.ones_like(idx_b1_true)), ak.unflatten(idx_b2_true, ak.ones_like(idx_b2_true))), axis=1)\n",
    "idx_h_pred"
   ]
  },
  {
   "cell_type": "code",
   "execution_count": 7,
   "id": "535bbac1-6d55-4653-99b7-12a1ef5db933",
   "metadata": {},
   "outputs": [
    {
     "data": {
      "text/plain": [
       "<Array [[0, 1], [0, 2], ... [4, 5], [1, 3]] type='29753 * var * int64'>"
      ]
     },
     "execution_count": 7,
     "metadata": {},
     "output_type": "execute_result"
    }
   ],
   "source": [
    "idx_h_true"
   ]
  },
  {
   "cell_type": "code",
   "execution_count": 8,
   "id": "eb296063-7e8c-45e7-8f8a-26318bfe5967",
   "metadata": {},
   "outputs": [
    {
     "data": {
      "text/plain": [
       "<Array [True, False, True, ... True, True] type='29753 * bool'>"
      ]
     },
     "execution_count": 8,
     "metadata": {},
     "output_type": "execute_result"
    }
   ],
   "source": [
    "is_correct_higgs = ak.sum(idx_h_pred == idx_h_true, axis=1) == 2\n",
    "is_correct_higgs"
   ]
  },
  {
   "cell_type": "code",
   "execution_count": 9,
   "id": "bcdceabc-b45b-4860-8fe6-c27c7f12f0bc",
   "metadata": {},
   "outputs": [
    {
     "data": {
      "text/plain": [
       "29753"
      ]
     },
     "execution_count": 9,
     "metadata": {},
     "output_type": "execute_result"
    }
   ],
   "source": [
    "n_tot = len(is_correct_higgs)\n",
    "n_tot"
   ]
  },
  {
   "cell_type": "code",
   "execution_count": 10,
   "id": "41b25bbd-67fd-43f7-8971-be018156311e",
   "metadata": {},
   "outputs": [
    {
     "data": {
      "text/plain": [
       "18392"
      ]
     },
     "execution_count": 10,
     "metadata": {},
     "output_type": "execute_result"
    }
   ],
   "source": [
    "n_correct = ak.sum(is_correct_higgs)\n",
    "n_correct"
   ]
  },
  {
   "cell_type": "code",
   "execution_count": 11,
   "id": "21baf055-a627-4716-8b5b-e3c31ac2e3ac",
   "metadata": {},
   "outputs": [
    {
     "data": {
      "text/plain": [
       "0.6181561523207744"
      ]
     },
     "execution_count": 11,
     "metadata": {},
     "output_type": "execute_result"
    }
   ],
   "source": [
    "eff_h = n_correct / n_tot\n",
    "eff_h"
   ]
  },
  {
   "cell_type": "code",
   "execution_count": 12,
   "id": "b7e68662-c03b-4bae-84b7-2aee058d9e75",
   "metadata": {},
   "outputs": [
    {
     "data": {
      "text/plain": [
       "array([6, 5, 0, ..., 1, 0, 4])"
      ]
     },
     "execution_count": 12,
     "metadata": {},
     "output_type": "execute_result"
    }
   ],
   "source": [
    "idx_q1_pred = df_pred[\"TARGETS\"][\"t1\"][\"q1\"][()]\n",
    "idx_q2_pred = df_pred[\"TARGETS\"][\"t1\"][\"q2\"][()]\n",
    "idx_b_pred = df_pred[\"TARGETS\"][\"t1\"][\"b\"][()]\n",
    "idx_q1_true = df_test[\"TARGETS\"][\"t1\"][\"q1\"][()]\n",
    "idx_q2_true = df_test[\"TARGETS\"][\"t1\"][\"q2\"][()]\n",
    "idx_b_true = df_test[\"TARGETS\"][\"t1\"][\"b\"][()]\n",
    "idx_b_pred"
   ]
  },
  {
   "cell_type": "code",
   "execution_count": 13,
   "id": "664aeccc-2318-4d90-8ab5-9ddd62caaf44",
   "metadata": {},
   "outputs": [
    {
     "data": {
      "text/plain": [
       "<Array [[2, 4, 6], [1, 4, ... 3, 0], [2, 5, 4]] type='29753 * var * int64'>"
      ]
     },
     "execution_count": 13,
     "metadata": {},
     "output_type": "execute_result"
    }
   ],
   "source": [
    "idx_thad_pred = ak.concatenate(\n",
    "     (ak.unflatten(idx_q1_pred, ak.ones_like(idx_q1_pred)),\n",
    "     ak.unflatten(idx_q2_pred, ak.ones_like(idx_q2_pred)),\n",
    "     ak.unflatten(idx_b_pred, ak.ones_like(idx_b_pred))),\n",
    "     axis=1)\n",
    "idx_thad_true = ak.concatenate(\n",
    "     (ak.unflatten(idx_q1_true, ak.ones_like(idx_q1_true)),\n",
    "     ak.unflatten(idx_q2_true, ak.ones_like(idx_q2_true)),\n",
    "     ak.unflatten(idx_b_true, ak.ones_like(idx_b_true))),\n",
    "     axis=1)\n",
    "idx_thad_pred"
   ]
  },
  {
   "cell_type": "code",
   "execution_count": 14,
   "id": "938346cb-5d3e-4469-9fbb-19124db83cd4",
   "metadata": {},
   "outputs": [
    {
     "data": {
      "text/plain": [
       "<Array [True, True, True, ... True, False] type='29753 * bool'>"
      ]
     },
     "execution_count": 14,
     "metadata": {},
     "output_type": "execute_result"
    }
   ],
   "source": [
    "is_correct_thad = ak.sum(idx_thad_pred == idx_thad_true, axis=1) == 3\n",
    "is_correct_thad"
   ]
  },
  {
   "cell_type": "code",
   "execution_count": 15,
   "id": "ed465844-0a97-44ec-9547-20b3991685cb",
   "metadata": {},
   "outputs": [
    {
     "data": {
      "text/plain": [
       "0.6524047995160152"
      ]
     },
     "execution_count": 15,
     "metadata": {},
     "output_type": "execute_result"
    }
   ],
   "source": [
    "n_correct = ak.sum(is_correct_thad)\n",
    "n_tot = len(is_correct_thad)\n",
    "eff_thad = n_correct / n_tot\n",
    "eff_thad"
   ]
  },
  {
   "cell_type": "code",
   "execution_count": 16,
   "id": "2d0493a9-3128-4650-b20d-ded7076ab414",
   "metadata": {},
   "outputs": [
    {
     "data": {
      "text/plain": [
       "<Array [[5], [2], [1], ... [4], [1], [0]] type='29753 * var * int64'>"
      ]
     },
     "execution_count": 16,
     "metadata": {},
     "output_type": "execute_result"
    }
   ],
   "source": [
    "idx_b_pred = df_pred[\"TARGETS\"][\"t2\"][\"b\"][()]\n",
    "idx_b_true = df_test[\"TARGETS\"][\"t2\"][\"b\"][()]\n",
    "idx_tlep_pred = ak.unflatten(idx_b_pred, ak.ones_like(idx_b_pred))\n",
    "idx_tlep_true = ak.unflatten(idx_b_true, ak.ones_like(idx_b_pred))\n",
    "idx_tlep_pred"
   ]
  },
  {
   "cell_type": "code",
   "execution_count": 17,
   "id": "80b4b26a-ae4b-4038-b98a-e57b542feff8",
   "metadata": {},
   "outputs": [
    {
     "data": {
      "text/plain": [
       "<Array [True, False, True, ... True, False] type='29753 * bool'>"
      ]
     },
     "execution_count": 17,
     "metadata": {},
     "output_type": "execute_result"
    }
   ],
   "source": [
    "is_correct_tlep = ak.sum(idx_tlep_pred == idx_tlep_true, axis=1) == 1\n",
    "is_correct_tlep"
   ]
  },
  {
   "cell_type": "code",
   "execution_count": 18,
   "id": "3f097395-f6da-48fe-9e1a-280e1cfd150a",
   "metadata": {},
   "outputs": [
    {
     "data": {
      "text/plain": [
       "0.7325311733270594"
      ]
     },
     "execution_count": 18,
     "metadata": {},
     "output_type": "execute_result"
    }
   ],
   "source": [
    "n_correct = ak.sum(is_correct_tlep)\n",
    "n_tot = len(is_correct_tlep)\n",
    "eff_tlep = n_correct / n_tot\n",
    "eff_tlep"
   ]
  },
  {
   "cell_type": "markdown",
   "id": "65bee1e6-29b7-4f18-8f70-a12170ad5705",
   "metadata": {},
   "source": [
    "## Resulting Higgs and top reconstruction efficiencies\n",
    "The Higgs and top efficiencies are defined as the number of events with all the jets correctly assigned over the total number of events:\n",
    "\n",
    "$\\epsilon = \\frac{N_{assigned}}{N_{tot}}$"
   ]
  },
  {
   "cell_type": "code",
   "execution_count": 19,
   "id": "2f99c532-0988-4b22-9c4e-9e911238af8c",
   "metadata": {},
   "outputs": [
    {
     "data": {
      "text/plain": [
       "(0.6181561523207744, 0.6524047995160152, 0.7325311733270594)"
      ]
     },
     "execution_count": 19,
     "metadata": {},
     "output_type": "execute_result"
    }
   ],
   "source": [
    "eff_h, eff_thad, eff_tlep"
   ]
  },
  {
   "cell_type": "markdown",
   "id": "af7f7b09-0de9-483c-86f7-3d2df0dda66b",
   "metadata": {},
   "source": [
    "## Check permutations of output indices\n",
    "We want to check how many events are predicted to have `q1` and `q2` swapped in the reconstruction of the hadronic top. If there are any events where `q1` and `q2` have swapped indices, they have to be taken into account in the numerator of the efficiency, since we don't distinguish between `q1` and `q2`.\n",
    "We also check how many events are predicted to have `b1` and `b2` swapped in the reconstruction of the Higgs to check the Higgs reconstruction efficiency."
   ]
  },
  {
   "cell_type": "code",
   "execution_count": 20,
   "id": "2c6330fb-3f6c-4fef-9056-619fb89e3faf",
   "metadata": {},
   "outputs": [
    {
     "data": {
      "text/plain": [
       "array([6, 5, 0, ..., 1, 0, 0])"
      ]
     },
     "execution_count": 20,
     "metadata": {},
     "output_type": "execute_result"
    }
   ],
   "source": [
    "idx_q1_pred = df_pred[\"TARGETS\"][\"t1\"][\"q1\"][()]\n",
    "idx_q2_pred = df_pred[\"TARGETS\"][\"t1\"][\"q2\"][()]\n",
    "idx_b_pred = df_pred[\"TARGETS\"][\"t1\"][\"b\"][()]\n",
    "idx_q1_true = df_test[\"TARGETS\"][\"t1\"][\"q1\"][()]\n",
    "idx_q2_true = df_test[\"TARGETS\"][\"t1\"][\"q2\"][()]\n",
    "idx_b_true = df_test[\"TARGETS\"][\"t1\"][\"b\"][()]\n",
    "idx_b_true"
   ]
  },
  {
   "cell_type": "code",
   "execution_count": 21,
   "id": "83fe8e8a-41df-4d95-9c5f-69ec8a1c90eb",
   "metadata": {},
   "outputs": [
    {
     "data": {
      "text/plain": [
       "0"
      ]
     },
     "execution_count": 21,
     "metadata": {},
     "output_type": "execute_result"
    }
   ],
   "source": [
    "has_mismatched_q1 = idx_q1_pred != idx_q1_true\n",
    "has_mismatched_q2 = idx_q2_pred != idx_q2_true\n",
    "has_mismatched_q1_q2 = has_mismatched_q1 & has_mismatched_q2\n",
    "has_swapped_q1_q2 = (idx_q1_pred == idx_q2_true) & (idx_q2_pred == idx_q1_true)\n",
    "sum(has_swapped_q1_q2)"
   ]
  },
  {
   "cell_type": "code",
   "execution_count": 22,
   "id": "52e96b50-0ee9-4a8b-b43e-1550c3dac4b8",
   "metadata": {},
   "outputs": [
    {
     "data": {
      "text/plain": [
       "[2, 1, 4, 3, 3, 1, 6, 1, 2, 0, 2, 3, 4, 0, 4, 0, 0, 0, 2, 2]"
      ]
     },
     "execution_count": 22,
     "metadata": {},
     "output_type": "execute_result"
    }
   ],
   "source": [
    "idx_q1_pred[:20].tolist()"
   ]
  },
  {
   "cell_type": "code",
   "execution_count": 23,
   "id": "e937c634-2472-4f95-a78d-1ea85b84816c",
   "metadata": {},
   "outputs": [
    {
     "data": {
      "text/plain": [
       "[4, 4, 6, 6, 4, 5, 7, 5, 4, 2, 6, 5, 5, 3, 5, 4, 2, 2, 3, 4]"
      ]
     },
     "execution_count": 23,
     "metadata": {},
     "output_type": "execute_result"
    }
   ],
   "source": [
    "idx_q2_pred[:20].tolist()"
   ]
  },
  {
   "cell_type": "code",
   "execution_count": 24,
   "id": "981e9e70-f250-4762-8f5c-b756cc05b73c",
   "metadata": {},
   "outputs": [
    {
     "data": {
      "text/plain": [
       "[6, 5, 0, 1, 6, 3, 1, 3, 1, 4, 1, 2, 1, 8, 2, 2, 4, 3, 1, 1]"
      ]
     },
     "execution_count": 24,
     "metadata": {},
     "output_type": "execute_result"
    }
   ],
   "source": [
    "idx_b_pred[:20].tolist()"
   ]
  },
  {
   "cell_type": "code",
   "execution_count": 25,
   "id": "1e2d7437-40b4-4740-9ba0-d29600589d93",
   "metadata": {},
   "outputs": [
    {
     "data": {
      "text/plain": [
       "[2, 1, 4, 3, 3, 1, 6, 1, 2, 0, 2, 3, 4, 3, 1, 0, 0, 0, 2, 2]"
      ]
     },
     "execution_count": 25,
     "metadata": {},
     "output_type": "execute_result"
    }
   ],
   "source": [
    "idx_q1_true[:20].tolist()"
   ]
  },
  {
   "cell_type": "code",
   "execution_count": 26,
   "id": "fa6d5f75-c138-43f1-9ed0-fd47198b93f8",
   "metadata": {},
   "outputs": [
    {
     "data": {
      "text/plain": [
       "[4, 4, 6, 6, 6, 5, 7, 5, 4, 2, 6, 5, 5, 4, 4, 4, 2, 2, 3, 4]"
      ]
     },
     "execution_count": 26,
     "metadata": {},
     "output_type": "execute_result"
    }
   ],
   "source": [
    "idx_q2_true[:20].tolist()"
   ]
  },
  {
   "cell_type": "code",
   "execution_count": 27,
   "id": "0a85943c-a9fd-448e-81c2-c4c523df6307",
   "metadata": {},
   "outputs": [
    {
     "data": {
      "text/plain": [
       "[6, 5, 0, 1, 5, 3, 4, 3, 1, 1, 1, 2, 2, 2, 2, 1, 4, 3, 1, 1]"
      ]
     },
     "execution_count": 27,
     "metadata": {},
     "output_type": "execute_result"
    }
   ],
   "source": [
    "idx_b_true[:20].tolist()"
   ]
  },
  {
   "cell_type": "code",
   "execution_count": 28,
   "id": "1cc32101-62b9-418a-8934-5d218a188628",
   "metadata": {},
   "outputs": [
    {
     "data": {
      "text/plain": [
       "array([0, 0, 2, ..., 0, 4, 1])"
      ]
     },
     "execution_count": 28,
     "metadata": {},
     "output_type": "execute_result"
    }
   ],
   "source": [
    "idx_b1_pred = df_pred[\"TARGETS\"][\"h\"][\"b1\"][()]\n",
    "idx_b2_pred = df_pred[\"TARGETS\"][\"h\"][\"b2\"][()]\n",
    "idx_b1_true = df_test[\"TARGETS\"][\"h\"][\"b1\"][()]\n",
    "idx_b2_true = df_test[\"TARGETS\"][\"h\"][\"b2\"][()]\n",
    "idx_b1_true"
   ]
  },
  {
   "cell_type": "code",
   "execution_count": 29,
   "id": "c555e956-fcb0-483c-b13e-91b86d8a0d92",
   "metadata": {},
   "outputs": [
    {
     "data": {
      "text/plain": [
       "0"
      ]
     },
     "execution_count": 29,
     "metadata": {},
     "output_type": "execute_result"
    }
   ],
   "source": [
    "has_swapped_b1_b2 = (idx_b1_pred == idx_b2_true) & (idx_b2_pred == idx_b1_true)\n",
    "sum(has_swapped_b1_b2)"
   ]
  },
  {
   "cell_type": "code",
   "execution_count": 30,
   "id": "acdbe003-85bb-483d-aafe-28d603db7e17",
   "metadata": {},
   "outputs": [
    {
     "data": {
      "text/plain": [
       "[0, 0, 2, 0, 2, 0, 3, 0, 0, 1, 4, 4, 0, 2, 1, 1, 5, 5, 4, 0]"
      ]
     },
     "execution_count": 30,
     "metadata": {},
     "output_type": "execute_result"
    }
   ],
   "source": [
    "idx_b1_pred[:20].tolist()"
   ]
  },
  {
   "cell_type": "code",
   "execution_count": 31,
   "id": "42d79b38-865b-4848-a637-42f9715a0869",
   "metadata": {},
   "outputs": [
    {
     "data": {
      "text/plain": [
       "[1, 6, 3, 4, 5, 2, 4, 2, 5, 5, 5, 6, 2, 4, 3, 6, 6, 6, 5, 3]"
      ]
     },
     "execution_count": 31,
     "metadata": {},
     "output_type": "execute_result"
    }
   ],
   "source": [
    "idx_b2_pred[:20].tolist()"
   ]
  },
  {
   "cell_type": "code",
   "execution_count": 32,
   "id": "3867d44f-26ee-4a08-beb4-244a32edabca",
   "metadata": {},
   "outputs": [
    {
     "data": {
      "text/plain": [
       "[0, 0, 2, 0, 2, 0, 3, 0, 0, 3, 4, 4, 0, 0, 3, 2, 1, 4, 4, 0]"
      ]
     },
     "execution_count": 32,
     "metadata": {},
     "output_type": "execute_result"
    }
   ],
   "source": [
    "idx_b1_true[:20].tolist()"
   ]
  },
  {
   "cell_type": "code",
   "execution_count": 33,
   "id": "5da521fc-5c8e-4b52-bae1-6459f0fd607c",
   "metadata": {},
   "outputs": [
    {
     "data": {
      "text/plain": [
       "[1, 2, 3, 4, 4, 4, 5, 2, 5, 5, 5, 6, 1, 8, 5, 6, 6, 6, 5, 3]"
      ]
     },
     "execution_count": 33,
     "metadata": {},
     "output_type": "execute_result"
    }
   ],
   "source": [
    "idx_b2_true[:20].tolist()"
   ]
  },
  {
   "cell_type": "code",
   "execution_count": null,
   "id": "26a0ba8a-3ef9-4732-b602-54e26ca818b8",
   "metadata": {},
   "outputs": [],
   "source": []
  }
 ],
 "metadata": {
  "@webio": {
   "lastCommId": null,
   "lastKernelId": null
  },
  "kernelspec": {
   "display_name": "Python 3 (ipykernel)",
   "language": "python",
   "name": "python3"
  },
  "language_info": {
   "codemirror_mode": {
    "name": "ipython",
    "version": 3
   },
   "file_extension": ".py",
   "mimetype": "text/x-python",
   "name": "python",
   "nbconvert_exporter": "python",
   "pygments_lexer": "ipython3",
   "version": "3.9.18"
  }
 },
 "nbformat": 4,
 "nbformat_minor": 5
}
